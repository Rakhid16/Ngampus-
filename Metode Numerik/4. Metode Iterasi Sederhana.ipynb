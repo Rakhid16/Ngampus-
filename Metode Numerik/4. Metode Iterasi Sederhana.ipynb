{
 "cells": [
  {
   "cell_type": "markdown",
   "metadata": {},
   "source": [
    "### Impor modul math"
   ]
  },
  {
   "cell_type": "code",
   "execution_count": 1,
   "metadata": {},
   "outputs": [],
   "source": [
    "from math import log"
   ]
  },
  {
   "cell_type": "markdown",
   "metadata": {},
   "source": [
    "### Minta <i>input</i>"
   ]
  },
  {
   "cell_type": "code",
   "execution_count": 2,
   "metadata": {
    "scrolled": true
   },
   "outputs": [
    {
     "name": "stdout",
     "output_type": "stream",
     "text": [
      "Masukkan nilai x : 3\n",
      "Masukkan toleransi kesalahan : 0.00000001\n"
     ]
    }
   ],
   "source": [
    "e =  2.718281828459045235360287471352\n",
    "x = float(input(\"Masukkan nilai x : \"))\n",
    "totSal = float(input(\"Masukkan toleransi kesalahan : \"))"
   ]
  },
  {
   "cell_type": "markdown",
   "metadata": {},
   "source": [
    "### Masukkan rumus fungsi dan rumus galat ke dalam variabel"
   ]
  },
  {
   "cell_type": "code",
   "execution_count": 3,
   "metadata": {},
   "outputs": [],
   "source": [
    "gx = log(x**2+8)        # BISA DIGANTI DENGAN FUNGSI YANG LAIN\n",
    "err = ((gx-x)/gx)*100  "
   ]
  },
  {
   "cell_type": "markdown",
   "metadata": {},
   "source": [
    "### Jika nilai error kurang dari 0 maka nilai error tersebut dikali dengan -1"
   ]
  },
  {
   "cell_type": "code",
   "execution_count": 4,
   "metadata": {},
   "outputs": [],
   "source": [
    "if (err < 0):\n",
    "    err=err*(-1)"
   ]
  },
  {
   "cell_type": "markdown",
   "metadata": {},
   "source": [
    "### buat fungsi untuk mencetak nilai"
   ]
  },
  {
   "cell_type": "code",
   "execution_count": 5,
   "metadata": {},
   "outputs": [
    {
     "name": "stdout",
     "output_type": "stream",
     "text": [
      "Nilai x :  3.0\n",
      "Nilai gx :  2.833213344056216\n",
      "Error-rate :  5.886837159428347\n",
      "\n"
     ]
    }
   ],
   "source": [
    "def cetak():\n",
    "    print(\"Nilai x : \", x)\n",
    "    print(\"Nilai gx : \",gx)\n",
    "    print(\"Error-rate : \", err)\n",
    "    print(\"\")\n",
    "cetak()"
   ]
  },
  {
   "cell_type": "markdown",
   "metadata": {},
   "source": [
    "### Lakukan iterasi sampai nilai error lebih kecil dari toleransi kesalahan"
   ]
  },
  {
   "cell_type": "code",
   "execution_count": 6,
   "metadata": {
    "scrolled": true
   },
   "outputs": [
    {
     "name": "stdout",
     "output_type": "stream",
     "text": [
      "Nilai x :  2.833213344056216\n",
      "Nilai gx :  2.774280905498397\n",
      "Error-rate :  2.1242419410745366\n",
      "\n",
      "Nilai x :  2.774280905498397\n",
      "Nilai gx :  2.7534463290326796\n",
      "Error-rate :  0.756672692183422\n",
      "\n",
      "Nilai x :  2.7534463290326796\n",
      "Nilai gx :  2.7460821750916136\n",
      "Error-rate :  0.26816946731830277\n",
      "\n",
      "Nilai x :  2.7460821750916136\n",
      "Nilai gx :  2.7434795896146094\n",
      "Error-rate :  0.09486440091831713\n",
      "\n",
      "Nilai x :  2.7434795896146094\n",
      "Nilai gx :  2.742559851182632\n",
      "Error-rate :  0.03353576519326834\n",
      "\n",
      "Nilai x :  2.742559851182632\n",
      "Nilai gx :  2.742234827335726\n",
      "Error-rate :  0.011852516920357898\n",
      "\n",
      "Nilai x :  2.742234827335726\n",
      "Nilai gx :  2.7421199688495235\n",
      "Error-rate :  0.0041886747300377185\n",
      "\n",
      "Nilai x :  2.7421199688495235\n",
      "Nilai gx :  2.742079379707308\n",
      "Error-rate :  0.0014802322104769774\n",
      "\n",
      "Nilai x :  2.742079379707308\n",
      "Nilai gx :  2.7420650361696732\n",
      "Error-rate :  0.000523092539592003\n",
      "\n",
      "Nilai x :  2.7420650361696732\n",
      "Nilai gx :  2.742059967400126\n",
      "Error-rate :  0.00018485261472989\n",
      "\n",
      "Nilai x :  2.742059967400126\n",
      "Nilai gx :  2.7420581761807936\n",
      "Error-rate :  6.532389968870696e-05\n",
      "\n",
      "Nilai x :  2.7420581761807936\n",
      "Nilai gx :  2.742057543193529\n",
      "Error-rate :  2.3084390274634812e-05\n",
      "\n",
      "Nilai x :  2.742057543193529\n",
      "Nilai gx :  2.742057319506309\n",
      "Error-rate :  8.157642010863094e-06\n",
      "\n",
      "Nilai x :  2.742057319506309\n",
      "Nilai gx :  2.7420572404589496\n",
      "Error-rate :  2.8827756823783855e-06\n",
      "\n",
      "Nilai x :  2.7420572404589496\n",
      "Nilai gx :  2.7420572125249216\n",
      "Error-rate :  1.018725205733539e-06\n",
      "\n",
      "Nilai x :  2.7420572125249216\n",
      "Nilai gx :  2.742057202653499\n",
      "Error-rate :  3.6000061489398504e-07\n",
      "\n",
      "Nilai x :  2.742057202653499\n",
      "Nilai gx :  2.7420571991651013\n",
      "Error-rate :  1.2721826415100639e-07\n",
      "\n",
      "Nilai x :  2.7420571991651013\n",
      "Nilai gx :  2.7420571979323594\n",
      "Error-rate :  4.4956826921109315e-08\n",
      "\n",
      "Nilai x :  2.7420571979323594\n",
      "Nilai gx :  2.7420571974967287\n",
      "Error-rate :  1.588700057269933e-08\n",
      "\n",
      "Nilai x :  2.7420571974967287\n",
      "Nilai gx :  2.7420571973427843\n",
      "Error-rate :  5.614194077429353e-09\n",
      "\n"
     ]
    }
   ],
   "source": [
    "while(err>totSal):\n",
    "    x=gx\n",
    "    gx = log(x**2+8)        # BISA DIGANTI DENGAN FUNGSI YANG LAIN\n",
    "    err = ((gx-x)/gx)*100  \n",
    "    \n",
    "    if (err < 0):\n",
    "        err=err*(-1)\n",
    "    \n",
    "    cetak()"
   ]
  },
  {
   "cell_type": "markdown",
   "metadata": {},
   "source": [
    "### Cetak nilai taksiran X"
   ]
  },
  {
   "cell_type": "code",
   "execution_count": 7,
   "metadata": {},
   "outputs": [
    {
     "name": "stdout",
     "output_type": "stream",
     "text": [
      "Nilai akar yg dicari :  2.7420571974967287\n"
     ]
    }
   ],
   "source": [
    "print(\"Nilai akar yg dicari : \", x)"
   ]
  },
  {
   "cell_type": "code",
   "execution_count": null,
   "metadata": {},
   "outputs": [],
   "source": []
  }
 ],
 "metadata": {
  "kernelspec": {
   "display_name": "Python 3",
   "language": "python",
   "name": "python3"
  },
  "language_info": {
   "codemirror_mode": {
    "name": "ipython",
    "version": 3
   },
   "file_extension": ".py",
   "mimetype": "text/x-python",
   "name": "python",
   "nbconvert_exporter": "python",
   "pygments_lexer": "ipython3",
   "version": "3.6.7"
  }
 },
 "nbformat": 4,
 "nbformat_minor": 2
}
