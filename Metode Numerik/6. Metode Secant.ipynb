{
 "cells": [
  {
   "cell_type": "markdown",
   "metadata": {},
   "source": [
    "### Minta <i>input</i>"
   ]
  },
  {
   "cell_type": "code",
   "execution_count": 1,
   "metadata": {},
   "outputs": [
    {
     "name": "stdout",
     "output_type": "stream",
     "text": [
      "Masukan x-1 : 2\n",
      "Masukan x  : 3\n"
     ]
    }
   ],
   "source": [
    "e = 2.7182818248590452\n",
    "xk1 = float(input(\"Masukan x-1 : \"))\n",
    "x = float(input(\"Masukan x  : \"))\n",
    "error = 1"
   ]
  },
  {
   "cell_type": "markdown",
   "metadata": {},
   "source": [
    "### Lakukan iterasi sampai nilai error sama dengan 0"
   ]
  },
  {
   "cell_type": "code",
   "execution_count": 2,
   "metadata": {},
   "outputs": [
    {
     "name": "stdout",
     "output_type": "stream",
     "text": [
      "Nilai x-1      :  2.0\n",
      "Nilai x        :  3.0\n",
      "Nilai x+1      :  2.5990976995865975\n",
      "Nilai f(x-1)   :  4.610943920640979\n",
      "Nilai f(x)     :  -3.0855368433858636\n",
      "Nilai f(x+1)   :  1.3037137206156473\n",
      "Nilai galatnya :  15.424672203633147\n",
      "\n",
      "Nilai x-1      :  3.0\n",
      "Nilai x        :  2.5990976995865975\n",
      "Nilai x+1      :  2.7181753922482894\n",
      "Nilai f(x-1)   :  -3.0855368433858636\n",
      "Nilai f(x)     :  1.3037137206156473\n",
      "Nilai f(x+1)   :  0.23582815250631306\n",
      "Nilai galatnya :  4.380795036305547\n",
      "\n",
      "Nilai x-1      :  2.5990976995865975\n",
      "Nilai x        :  2.7181753922482894\n",
      "Nilai x+1      :  2.7444720977228654\n",
      "Nilai f(x-1)   :  1.3037137206156473\n",
      "Nilai f(x)     :  0.23582815250631306\n",
      "Nilai f(x+1)   :  -0.024272353723141293\n",
      "Nilai galatnya :  0.9581698970958671\n",
      "\n",
      "Nilai x-1      :  2.7181753922482894\n",
      "Nilai x        :  2.7444720977228654\n",
      "Nilai x+1      :  2.742018111968339\n",
      "Nilai f(x-1)   :  0.23582815250631306\n",
      "Nilai f(x)     :  -0.024272353723141293\n",
      "Nilai f(x+1)   :  0.0003922576635924102\n",
      "Nilai galatnya :  0.08949560704268696\n",
      "\n",
      "Nilai x-1      :  2.7444720977228654\n",
      "Nilai x        :  2.742018111968339\n",
      "Nilai x+1      :  2.7420571393303947\n",
      "Nilai f(x-1)   :  -0.024272353723141293\n",
      "Nilai f(x)     :  0.0003922576635924102\n",
      "Nilai f(x+1)   :  6.376529251284069e-07\n",
      "Nilai galatnya :  0.0014232877023629407\n",
      "\n",
      "Nilai x-1      :  2.742018111968339\n",
      "Nilai x        :  2.7420571393303947\n",
      "Nilai x+1      :  2.7420572028764623\n",
      "Nilai f(x-1)   :  0.0003922576635924102\n",
      "Nilai f(x)     :  6.376529251284069e-07\n",
      "Nilai f(x+1)   :  -1.6793677559689968e-11\n",
      "Nilai galatnya :  2.31745958663685e-06\n",
      "\n",
      "Nilai x-1      :  2.7420571393303947\n",
      "Nilai x        :  2.7420572028764623\n",
      "Nilai x+1      :  2.742057202874789\n",
      "Nilai f(x-1)   :  6.376529251284069e-07\n",
      "Nilai f(x)     :  -1.6793677559689968e-11\n",
      "Nilai f(x+1)   :  0.0\n",
      "Nilai galatnya :  6.102455269571724e-11\n",
      "\n",
      "Nilai x-1      :  2.7420572028764623\n",
      "Nilai x        :  2.742057202874789\n",
      "Nilai x+1      :  2.742057202874789\n",
      "Nilai f(x-1)   :  -1.6793677559689968e-11\n",
      "Nilai f(x)     :  0.0\n",
      "Nilai f(x+1)   :  0.0\n",
      "Nilai galatnya :  0.0\n",
      "\n"
     ]
    }
   ],
   "source": [
    "while(error!=0):\n",
    "    fxk1 = (xk1**2)-(e**xk1)+8   # BISA DIGANTI DENGAN FUNGSI YANG LAIN\n",
    "    fx = (x**2)-(e**x)+8         # BISA DIGANTI DENGAN FUNGSI YANG LAIN\n",
    "    xt1 = x-((fx*(x-xk1))/(fx-fxk1))\n",
    "    fxt1 = (xt1**2)-(e**xt1)+8   # BISA DIGANTI DENGAN FUNGSI YANG LAIN\n",
    "    \n",
    "    error = ((xt1-x)/xt1)*100\n",
    "    if (error < 0):\n",
    "        error = error*(-1)\n",
    "        \n",
    "    print(\"Nilai x-1      : \",xk1)\n",
    "    print(\"Nilai x        : \",x)\n",
    "    print(\"Nilai x+1      : \",xt1)\n",
    "    print(\"Nilai f(x-1)   : \",fxk1)\n",
    "    print(\"Nilai f(x)     : \",fx)\n",
    "    print(\"Nilai f(x+1)   : \",fxt1)\n",
    "    print(\"Nilai galatnya : \",error)\n",
    "    print(\"\")\n",
    "    \n",
    "    xk1=x\n",
    "    x=xt1"
   ]
  },
  {
   "cell_type": "markdown",
   "metadata": {},
   "source": [
    "### Cetak nilai taksiran X"
   ]
  },
  {
   "cell_type": "code",
   "execution_count": 3,
   "metadata": {},
   "outputs": [
    {
     "name": "stdout",
     "output_type": "stream",
     "text": [
      "Nilai akar yang dicari :  2.742057202874789\n"
     ]
    }
   ],
   "source": [
    "print(\"Nilai akar yang dicari : \", x)"
   ]
  },
  {
   "cell_type": "code",
   "execution_count": null,
   "metadata": {},
   "outputs": [],
   "source": []
  }
 ],
 "metadata": {
  "kernelspec": {
   "display_name": "Python 3",
   "language": "python",
   "name": "python3"
  },
  "language_info": {
   "codemirror_mode": {
    "name": "ipython",
    "version": 3
   },
   "file_extension": ".py",
   "mimetype": "text/x-python",
   "name": "python",
   "nbconvert_exporter": "python",
   "pygments_lexer": "ipython3",
   "version": "3.6.7"
  }
 },
 "nbformat": 4,
 "nbformat_minor": 2
}
