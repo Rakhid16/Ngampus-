{
 "cells": [
  {
   "cell_type": "markdown",
   "metadata": {},
   "source": [
    "### IMPOR MODUL"
   ]
  },
  {
   "cell_type": "code",
   "execution_count": 1,
   "metadata": {},
   "outputs": [],
   "source": [
    "from simpleeval import simple_eval\n",
    "import pandas as pd\n",
    "import math"
   ]
  },
  {
   "cell_type": "markdown",
   "metadata": {},
   "source": [
    "Modul simpleeval digunakan untuk menampung dan menyesuaikan nilai(fungsi) yang dimasukkan oleh user(modul ini menerapkan tipe data abstrak stack) ke dalam program. Sedangkan modul pandas kami gunakan untuk menampung dan menampilkan hasil iterasi. Modul math digunakan untuk menentukan nilai eksponen."
   ]
  },
  {
   "cell_type": "markdown",
   "metadata": {},
   "source": [
    "### BERI MASUKKAN"
   ]
  },
  {
   "cell_type": "code",
   "execution_count": 2,
   "metadata": {},
   "outputs": [
    {
     "name": "stdout",
     "output_type": "stream",
     "text": [
      "f(x): 4*x-x**2\n",
      "\n",
      "Banyak irisan\t: 7\n",
      "Batas atas (b)\t: 1\n",
      "Batas bawah (a)\t: 0\n",
      "Galat\t\t: 0.000000001\n"
     ]
    }
   ],
   "source": [
    "persamaan = input(\"f(x): \")\n",
    "n = float(input(\"\\nBanyak irisan\\t: \"))\n",
    "b = float(input(\"Batas atas (b)\\t: \"))\n",
    "a = float(input(\"Batas bawah (a)\\t: \"))\n",
    "batas_error = float(input(\"Galat\\t\\t: \"))"
   ]
  },
  {
   "cell_type": "markdown",
   "metadata": {},
   "source": [
    "Program akan meminta user untuk memasukkan fungsi. Modul simpleeval mengetahui operator + - * / ** serta hanya mengetahui variabel e dan x."
   ]
  },
  {
   "cell_type": "markdown",
   "metadata": {},
   "source": [
    "### PERSIAPAN BUAT DATA-FRAME"
   ]
  },
  {
   "cell_type": "code",
   "execution_count": 3,
   "metadata": {},
   "outputs": [],
   "source": [
    "c = [a]\n",
    "h = (b - a) / n\n",
    "while (c[-1] < 1):\n",
    "    c.append(c[-1] + h)\n",
    "c[-1] = b"
   ]
  },
  {
   "cell_type": "markdown",
   "metadata": {},
   "source": [
    "Tampung nilai x yang asli ke dalam variabel c<br>\n",
    "Ini diperuntukkan untuk melihat iterasi pada data-farme"
   ]
  },
  {
   "cell_type": "markdown",
   "metadata": {},
   "source": [
    "### INISIALISASI VARIABEL"
   ]
  },
  {
   "cell_type": "code",
   "execution_count": 4,
   "metadata": {},
   "outputs": [],
   "source": [
    "error = 0\n",
    "hasil_asli = 0\n",
    "iterasi = 0\n",
    "nilx = [a]"
   ]
  },
  {
   "cell_type": "markdown",
   "metadata": {},
   "source": [
    "### PROSES ITERASI"
   ]
  },
  {
   "cell_type": "code",
   "execution_count": 5,
   "metadata": {},
   "outputs": [],
   "source": [
    "while True:\n",
    "    h = (b - a) / n\n",
    "    fa = simple_eval(persamaan, names={\"x\":a, \"e\":math.exp(1)})\n",
    "    fb = simple_eval(persamaan, names={\"x\":b, \"e\":math.exp(1)})\n",
    "    hasil =  fa + fb\n",
    "    sigma = 0.0\n",
    "    x = a\n",
    "\n",
    "    i = 1\n",
    "    while i < int(n):\n",
    "        x += h\n",
    "        nilx.append(x)   # Menambahkan nilai x pada list nilx\n",
    "        sigma += (2.0 * simple_eval(persamaan, names={\"x\":x, \"e\":math.exp(1)}))\n",
    "        i += 1\n",
    "        \n",
    "    hasil = (hasil + sigma) * h / 2.0\n",
    "    \n",
    "    # Catat hasil aslinya\n",
    "    if iterasi == 0:\n",
    "        hasil_asli = hasil\n",
    "\n",
    "    # Cek error\n",
    "    error = abs(hasil - error)\n",
    "    if error <= batas_error:\n",
    "        break\n",
    "    \n",
    "    error = hasil\n",
    "    n *= 10     # Tambahkan segmen\n",
    "    iterasi += 1\n",
    "\n",
    "presentase_error = abs((hasil - hasil_asli) / hasil) * 100"
   ]
  },
  {
   "cell_type": "markdown",
   "metadata": {},
   "source": [
    "PENJELASAN PROSES ITERASI<br><br>\n",
    "\n",
    "1 Lakukan langkah dibawah ini secara terus menerus<br>\n",
    "....1 Hitung nilai h dengan rumus yg sudah ada<br>\n",
    "....2 Tambahkan nilai f(x) dengan x berupa batas atas dan batas bawah ke dalam variabel hasil<br>\n",
    "....3 Inisialisasikan nilai 0.0 ke dalam variabel sigma<br>\n",
    "....4 masukkan nilai variabel a ke dalam variabel x<br>\n",
    "....5 masukkan nilai 1 ke dalam variabel i<br>\n",
    "....6 Selagi nilai i kurang dari int(n) :<br>\n",
    "........1 tambah dan masukkan nilai h ke dalam variabel x<br>\n",
    "........2 tambbahkan nilai x ke dalam list nilx<br>\n",
    "........3 kalikan fungsi(x) dengan 2 lalu tambah dan masukkan ke dalam variabel sigma<br>\n",
    "........4 tambah nilai i dengan 1<br>\n",
    "....7 jika nilai iterasi == 0 :<br>\n",
    "........1 masukkan nilai hasil ke dalam variabel hasil_asli<br>\n",
    "....8 masukkan nilai absolut dari hasil-error ke dalam variabel error<br>\n",
    "....9 jika error lebih kecil dari sama dengan batas_error:<br>\n",
    "........10 break (lompat ke nomor 3 BAWAH)<br>\n",
    "....10 masukkan nilai hasil ke dalam error<br>\n",
    "....11 tambahkan segmen<br>\n",
    "....12 tambahkan nilai iterasi dengan 1<br><br>\n",
    "\n",
    "2 absolutkan nilai dari ((hasil-hasil_asli)/hasil)*100 lalu masukkan ke dalam variabel presentase_error"
   ]
  },
  {
   "cell_type": "markdown",
   "metadata": {},
   "source": [
    "### PERSIAPAN BUAT DATA-FRAME (2)"
   ]
  },
  {
   "cell_type": "code",
   "execution_count": 6,
   "metadata": {},
   "outputs": [],
   "source": [
    "kolx = []\n",
    "kolfx = []\n",
    "\n",
    "w = 0\n",
    "for q in range(len(nilx)):\n",
    "    if c[w] == nilx[q]:\n",
    "        kolx.append(nilx[q])\n",
    "        w += 1\n",
    "        \n",
    "if (kolx[-1] >= 1.0 or kolx[-1] >= 1):\n",
    "    kolx[-1] = b\n",
    "else:\n",
    "    kolx.append(b)\n",
    "\n",
    "for item in range(len(kolx)):\n",
    "    kolfx.append(2.0 * simple_eval(persamaan, names={\"x\":kolx[item], \"e\":math.exp(1)}))\n",
    "    kolfx[item] = kolfx[item] / 2"
   ]
  },
  {
   "cell_type": "markdown",
   "metadata": {},
   "source": [
    "Siapkan 2 list kosong untuk menampung nilai x dan nilai f(x) yang nantinya diperlihatkan melalui data-frame<br><br>\n",
    "\n",
    "Cari dan tampung nilai x ke dalam variabel kolx (kolom x)<br>\n",
    "Jika elemen pada indeks terakhir dari kolx lebih dari sama dengan 1 atau 1.0 maka masukkan nilai b ke dalam indeks<br> terakhir list kolx jika tidak tambahkan nilai b pada list kolx<br><br>\n",
    "\n",
    "Cari dan tampung nilai f(x) ke dalam variabel kolfx (kolom f(x))"
   ]
  },
  {
   "cell_type": "markdown",
   "metadata": {},
   "source": [
    "### CETAK DATA-FRAME"
   ]
  },
  {
   "cell_type": "code",
   "execution_count": 7,
   "metadata": {},
   "outputs": [
    {
     "name": "stdout",
     "output_type": "stream",
     "text": [
      "\n",
      "Proses iterasi: \n",
      "          x      f(x)\n",
      "0  0.000000  0.000000\n",
      "1  0.142857  0.551020\n",
      "2  0.285714  1.061224\n",
      "3  0.428571  1.530612\n",
      "4  0.571429  1.959184\n",
      "5  0.714286  2.346939\n",
      "6  0.857143  2.693878\n",
      "7  1.000000  3.000000\n"
     ]
    }
   ],
   "source": [
    "raw_data = {'x': kolx, 'f(x)': kolfx}\n",
    "df = pd.DataFrame(raw_data)\n",
    "print(\"\\nProses iterasi: \")\n",
    "print(df)"
   ]
  },
  {
   "cell_type": "markdown",
   "metadata": {},
   "source": [
    "### CETAK HASIL ITERASI DAN GALAT"
   ]
  },
  {
   "cell_type": "code",
   "execution_count": 8,
   "metadata": {},
   "outputs": [
    {
     "name": "stdout",
     "output_type": "stream",
     "text": [
      "\n",
      "Nilai integrasinya numeriknya\t: 1.66326531\n",
      "Nilai integrasi paling akurat\t: 1.66666667\n",
      "Error\t\t\t\t: 0.204 persen\n"
     ]
    }
   ],
   "source": [
    "print(\"\\nNilai integrasinya numeriknya\\t: %.8f\" % hasil_asli)\n",
    "print(\"Nilai integrasi paling akurat\\t: %.8f\" % hasil)\n",
    "print(\"Error\\t\\t\\t\\t: %.3f persen\" % presentase_error)"
   ]
  }
 ],
 "metadata": {
  "kernelspec": {
   "display_name": "Python 3",
   "language": "python",
   "name": "python3"
  },
  "language_info": {
   "codemirror_mode": {
    "name": "ipython",
    "version": 3
   },
   "file_extension": ".py",
   "mimetype": "text/x-python",
   "name": "python",
   "nbconvert_exporter": "python",
   "pygments_lexer": "ipython3",
   "version": "3.6.7"
  }
 },
 "nbformat": 4,
 "nbformat_minor": 2
}
