{
 "cells": [
  {
   "cell_type": "markdown",
   "metadata": {},
   "source": [
    "### Minta <i>input</i>"
   ]
  },
  {
   "cell_type": "code",
   "execution_count": 1,
   "metadata": {},
   "outputs": [
    {
     "name": "stdout",
     "output_type": "stream",
     "text": [
      "Masukan tebakan awal    : 3\n",
      "Masukan batas kesalahan : 0.00000001\n"
     ]
    }
   ],
   "source": [
    "e = 2.7182818248590452\n",
    "x = float(input\t    (\"Masukan tebakan awal    : \"))\n",
    "tolSal = float(input(\"Masukan batas kesalahan : \"))"
   ]
  },
  {
   "cell_type": "markdown",
   "metadata": {},
   "source": [
    "### Lakukan iterasi terus menerus sampai nilai fx atau (fx * -1) lebih besar dari nilai toleransi kesalahan"
   ]
  },
  {
   "cell_type": "code",
   "execution_count": 2,
   "metadata": {},
   "outputs": [
    {
     "name": "stdout",
     "output_type": "stream",
     "text": [
      "Nilai x      :  3.0\n",
      "Nilai x+1    :  2.780942900672278\n",
      "Nilai f(x)   :  -3.0855368433858636\n",
      "Nilai f'(x)  :  -14.085536843385864\n",
      "Nilai f(x+1) :  -0.4005832751487475\n",
      "\n"
     ]
    }
   ],
   "source": [
    "while True:\n",
    "    fx = (x**2)-(e**x)+8               # BISA DIGANTI DENGAN FUNGSI YANG LAIN\n",
    "    fxtur1 = 2*x-(e**x)                # BISA DIGANTI DENGAN FUNGSI YANG LAIN\n",
    "    xtam1 = x-(fx/fxtur1)              # BISA DIGANTI DENGAN FUNGSI YANG LAIN\n",
    "    fxtam1 = (xtam1**2)-(e**xtam1)+8   # BISA DIGANTI DENGAN FUNGSI YANG LAIN\n",
    "    \n",
    "    print(\"Nilai x      : \", x)\n",
    "    print(\"Nilai x+1    : \", xtam1)\n",
    "    print(\"Nilai f(x)   : \", fx)\n",
    "    print(\"Nilai f'(x)  : \", fxtur1)\n",
    "    print(\"Nilai f(x+1) : \", fxtam1)\n",
    "    print(\"\")\n",
    "    \n",
    "    x = xtam1\n",
    "    \n",
    "    if (fx > tolSal or fx*(-1) > tolSal):\n",
    "        break"
   ]
  },
  {
   "cell_type": "markdown",
   "metadata": {},
   "source": [
    "### Cetak nilai taksiran X"
   ]
  },
  {
   "cell_type": "code",
   "execution_count": 3,
   "metadata": {},
   "outputs": [
    {
     "name": "stdout",
     "output_type": "stream",
     "text": [
      "Nilai x yang dicari :  2.780942900672278\n"
     ]
    }
   ],
   "source": [
    "print(\"Nilai x yang dicari : \",x)"
   ]
  },
  {
   "cell_type": "code",
   "execution_count": null,
   "metadata": {},
   "outputs": [],
   "source": []
  }
 ],
 "metadata": {
  "kernelspec": {
   "display_name": "Python 3",
   "language": "python",
   "name": "python3"
  },
  "language_info": {
   "codemirror_mode": {
    "name": "ipython",
    "version": 3
   },
   "file_extension": ".py",
   "mimetype": "text/x-python",
   "name": "python",
   "nbconvert_exporter": "python",
   "pygments_lexer": "ipython3",
   "version": "3.6.7"
  }
 },
 "nbformat": 4,
 "nbformat_minor": 2
}
